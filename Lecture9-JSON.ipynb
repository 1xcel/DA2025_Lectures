{
 "cells": [
  {
   "cell_type": "markdown",
   "metadata": {},
   "source": [
    "# Lecture 9 Code-Along: Working with JSON in Python\n",
    "\n",
    "### Objective: Learn how to load, parse, and manipulate JSON data in Python.\n",
    "### Tools: Python's built-in `json` module.\n",
    "### Dataset: A small, open-use JSON file containing sample employee data data stored as `sample.json` in the data folder."
   ]
  },
  {
   "cell_type": "markdown",
   "metadata": {},
   "source": [
    "## Instructions \n",
    "\n",
    "- Step 1: Load a JSON file into Python.\n",
    "- Step 2: Parse the JSON data into a Python dictionary.\n",
    "- Step 3: Access specific data points using keys.\n",
    "- Step 4: Modify the data and save it back to a JSON file.\n"
   ]
  },
  {
   "cell_type": "code",
   "execution_count": null,
   "metadata": {},
   "outputs": [],
   "source": [
    "# Import the JSON module\n",
    "None"
   ]
  },
  {
   "cell_type": "code",
   "execution_count": null,
   "metadata": {},
   "outputs": [],
   "source": [
    "# Step 1: Load the JSON file\n",
    "# Replace 'None' with the correct code to open and load the JSON file\n",
    "with open('data/sample.json', 'r') as file:\n",
    "    data = None  # Use json.load() to parse the JSON file"
   ]
  },
  {
   "cell_type": "code",
   "execution_count": null,
   "metadata": {},
   "outputs": [],
   "source": [
    "# Step 2: Access specific data\n",
    "# Replace 'None' with the correct key to access the \"employees\" list\n",
    "employees = None"
   ]
  },
  {
   "cell_type": "code",
   "execution_count": null,
   "metadata": {},
   "outputs": [],
   "source": [
    "# Step 3: Access a specific employee's details\n",
    "# Replace 'None' with the correct index to access the first employee\n",
    "first_employee = None\n",
    "print(\"First Employee:\", first_employee)"
   ]
  },
  {
   "cell_type": "code",
   "execution_count": null,
   "metadata": {},
   "outputs": [],
   "source": [
    "# Step 4: Modify the data\n",
    "# Add a new employee to the list\n",
    "new_employee = {\"name\": \"Alice\", \"age\": 28}\n",
    "None  # Append the new employee to the employees list"
   ]
  },
  {
   "cell_type": "code",
   "execution_count": null,
   "metadata": {},
   "outputs": [],
   "source": [
    "# Step 5: Save the modified data back to a JSON file\n",
    "# Replace 'None' with the correct code to write the updated data to a file\n",
    "with open('updated_sample.json', 'w') as file:\n",
    "    None  # Use json.dump() to save the data"
   ]
  }
 ],
 "metadata": {
  "kernelspec": {
   "display_name": "Python (learn-env)",
   "language": "python",
   "name": "learn-env"
  },
  "language_info": {
   "name": "python",
   "version": "3.12.4"
  }
 },
 "nbformat": 4,
 "nbformat_minor": 2
}
